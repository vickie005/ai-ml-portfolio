{
 "cells": [
  {
   "cell_type": "code",
   "execution_count": 1,
   "id": "d73c29e3",
   "metadata": {},
   "outputs": [
    {
     "name": "stdout",
     "output_type": "stream",
     "text": [
      "              precision    recall  f1-score   support\n",
      "\n",
      "           0       1.00      1.00      1.00        19\n",
      "           1       1.00      1.00      1.00        13\n",
      "           2       1.00      1.00      1.00        13\n",
      "\n",
      "    accuracy                           1.00        45\n",
      "   macro avg       1.00      1.00      1.00        45\n",
      "weighted avg       1.00      1.00      1.00        45\n",
      "\n"
     ]
    }
   ],
   "source": [
    "# Import necessary libraries:\n",
    "import numpy as np                          # For numerical operations.\n",
    "from sklearn.datasets import load_iris       # To load the Iris dataset.\n",
    "from sklearn.linear_model import LogisticRegression  # Our classifier.\n",
    "from sklearn.model_selection import train_test_split  # For splitting data into training and test sets.\n",
    "from sklearn.metrics import classification_report     # For evaluating our model.\n",
    "\n",
    "# Load the Iris dataset.\n",
    "iris = load_iris()  # The Iris dataset is a classic dataset with 150 samples of iris flowers.\n",
    "X = iris.data       # Feature matrix: measurements like sepal length, sepal width, petal length, petal width.\n",
    "y = iris.target     # Target vector: numerical labels representing the iris species.\n",
    "\n",
    "# Split the data into training and testing subsets.\n",
    "X_train, X_test, y_train, y_test = train_test_split(X, y, test_size=0.3, random_state=42)\n",
    "# test_size=0.3 -- 30% of data is reserved for testing.\n",
    "# random_state=42 ensures reproducibility of the split.\n",
    "\n",
    "# Initialize the Logistic Regression classifier.\n",
    "clf = LogisticRegression(max_iter=200)\n",
    "# max_iter=200 sets the maximum number of iterations (to ensure convergence for this dataset).\n",
    "\n",
    "# Train the classifier on the training data.\n",
    "clf.fit(X_train, y_train)  # The model learns the mapping from features to iris species.\n",
    "\n",
    "# Use the trained model to predict the test set labels.\n",
    "y_pred = clf.predict(X_test)\n",
    "\n",
    "# Print the classification report to evaluate performance.\n",
    "print(classification_report(y_test, y_pred))"
   ]
  }
 ],
 "metadata": {
  "kernelspec": {
   "display_name": "Python 3",
   "language": "python",
   "name": "python3"
  },
  "language_info": {
   "codemirror_mode": {
    "name": "ipython",
    "version": 3
   },
   "file_extension": ".py",
   "mimetype": "text/x-python",
   "name": "python",
   "nbconvert_exporter": "python",
   "pygments_lexer": "ipython3",
   "version": "3.13.1"
  }
 },
 "nbformat": 4,
 "nbformat_minor": 5
}

{
 "cells": [
  {
   "cell_type": "code",
   "execution_count": 2,
   "id": "2e131fb0",
   "metadata": {},
   "outputs": [
    {
     "name": "stderr",
     "output_type": "stream",
     "text": [
      "[nltk_data] Downloading package vader_lexicon to\n",
      "[nltk_data]     C:\\Users\\User\\AppData\\Roaming\\nltk_data...\n"
     ]
    },
    {
     "name": "stdout",
     "output_type": "stream",
     "text": [
      "Sentiment Scores: {'neg': 0.0, 'neu': 0.518, 'pos': 0.482, 'compound': 0.855}\n"
     ]
    }
   ],
   "source": [
    "# Import necessary libraries:\n",
    "import nltk                                # For natural language processing tasks.\n",
    "from nltk.sentiment.vader import SentimentIntensityAnalyzer\n",
    "\n",
    "# Download the VADER lexicon, needed by the SentimentIntensityAnalyzer.\n",
    "nltk.download('vader_lexicon')\n",
    "\n",
    "# Initialize the sentiment analyzer.\n",
    "sid = SentimentIntensityAnalyzer()         # VADER is optimized for social media text and other short texts.\n",
    "\n",
    "# Define a sample text.\n",
    "text = \"I absolutely loved the new design of the application. It is magnificent!\"\n",
    "\n",
    "# Compute sentiment scores.\n",
    "scores = sid.polarity_scores(text)\n",
    "# polarity_scores returns a dictionary with sentiment keys: 'neg', 'neu', 'pos', and 'compound'.\n",
    "\n",
    "# Print the sentiment scores.\n",
    "print(\"Sentiment Scores:\", scores)"
   ]
  }
 ],
 "metadata": {
  "kernelspec": {
   "display_name": "Python 3",
   "language": "python",
   "name": "python3"
  },
  "language_info": {
   "codemirror_mode": {
    "name": "ipython",
    "version": 3
   },
   "file_extension": ".py",
   "mimetype": "text/x-python",
   "name": "python",
   "nbconvert_exporter": "python",
   "pygments_lexer": "ipython3",
   "version": "3.13.1"
  }
 },
 "nbformat": 4,
 "nbformat_minor": 5
}
